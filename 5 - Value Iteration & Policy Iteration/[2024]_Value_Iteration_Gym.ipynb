{
 "nbformat": 4,
 "nbformat_minor": 0,
 "metadata": {
  "colab": {
   "provenance": []
  },
  "kernelspec": {
   "name": "python3",
   "language": "python",
   "display_name": "Python 3 (ipykernel)"
  },
  "language_info": {
   "name": "python"
  }
 },
 "cells": [
  {
   "cell_type": "code",
   "source": [
    "!pip install gymnasium"
   ],
   "metadata": {
    "colab": {
     "base_uri": "https://localhost:8080/"
    },
    "id": "YczE55EXiYx9",
    "outputId": "420f17aa-05f4-4326-f2ad-20b4fd3c40c7",
    "ExecuteTime": {
     "end_time": "2024-05-19T02:54:40.955984Z",
     "start_time": "2024-05-19T02:54:28.860352Z"
    }
   },
   "execution_count": 417,
   "outputs": [
    {
     "name": "stdout",
     "output_type": "stream",
     "text": [
      "Requirement already satisfied: gymnasium in c:\\users\\nguye\\anaconda3\\lib\\site-packages (0.29.1)\n",
      "Requirement already satisfied: numpy>=1.21.0 in c:\\users\\nguye\\anaconda3\\lib\\site-packages (from gymnasium) (1.24.3)\n",
      "Requirement already satisfied: cloudpickle>=1.2.0 in c:\\users\\nguye\\anaconda3\\lib\\site-packages (from gymnasium) (2.2.1)\n",
      "Requirement already satisfied: typing-extensions>=4.3.0 in c:\\users\\nguye\\anaconda3\\lib\\site-packages (from gymnasium) (4.7.1)\n",
      "Requirement already satisfied: farama-notifications>=0.0.1 in c:\\users\\nguye\\anaconda3\\lib\\site-packages (from gymnasium) (0.0.4)\n"
     ]
    }
   ]
  },
  {
   "cell_type": "code",
   "metadata": {
    "id": "yhSyhfEy4XSD",
    "ExecuteTime": {
     "end_time": "2024-05-19T02:54:40.962251Z",
     "start_time": "2024-05-19T02:54:40.958100Z"
    }
   },
   "source": [
    "import gymnasium as gym\n",
    "import numpy as np\n",
    "import time\n",
    "from IPython import display"
   ],
   "execution_count": 418,
   "outputs": []
  },
  {
   "cell_type": "code",
   "metadata": {
    "id": "kHf1dAVKAcZm",
    "ExecuteTime": {
     "end_time": "2024-05-19T02:54:40.970003Z",
     "start_time": "2024-05-19T02:54:40.963636Z"
    }
   },
   "source": [
    "env = gym.make('FrozenLake-v1', render_mode=\"ansi\")"
   ],
   "execution_count": 419,
   "outputs": []
  },
  {
   "cell_type": "code",
   "metadata": {
    "colab": {
     "base_uri": "https://localhost:8080/"
    },
    "id": "5-6usoQHAmqh",
    "outputId": "c37e6f40-9d01-4f50-cce9-99de3a7315fd",
    "ExecuteTime": {
     "end_time": "2024-05-19T02:54:40.981020Z",
     "start_time": "2024-05-19T02:54:40.972638Z"
    }
   },
   "source": [
    "env.P[0][3] # Transition model"
   ],
   "execution_count": 420,
   "outputs": [
    {
     "name": "stderr",
     "output_type": "stream",
     "text": [
      "C:\\Users\\nguye\\anaconda3\\Lib\\site-packages\\gymnasium\\core.py:311: UserWarning: \u001B[33mWARN: env.P to get variables from other wrappers is deprecated and will be removed in v1.0, to get this variable you can do `env.unwrapped.P` for environment variables or `env.get_wrapper_attr('P')` that will search the reminding wrappers.\u001B[0m\n",
      "  logger.warn(\n"
     ]
    },
    {
     "data": {
      "text/plain": "[(0.3333333333333333, 1, 0.0, False),\n (0.3333333333333333, 0, 0.0, False),\n (0.3333333333333333, 0, 0.0, False)]"
     },
     "execution_count": 420,
     "metadata": {},
     "output_type": "execute_result"
    }
   ]
  },
  {
   "cell_type": "code",
   "metadata": {
    "colab": {
     "base_uri": "https://localhost:8080/"
    },
    "id": "wh7Su0h0AqQz",
    "outputId": "2a5b804e-5b7a-4a84-8ff9-09ee97790ca0",
    "ExecuteTime": {
     "end_time": "2024-05-19T02:54:40.990215Z",
     "start_time": "2024-05-19T02:54:40.982098Z"
    }
   },
   "source": [
    "env.observation_space.n"
   ],
   "execution_count": 421,
   "outputs": [
    {
     "data": {
      "text/plain": "16"
     },
     "execution_count": 421,
     "metadata": {},
     "output_type": "execute_result"
    }
   ]
  },
  {
   "cell_type": "code",
   "metadata": {
    "colab": {
     "base_uri": "https://localhost:8080/"
    },
    "id": "qZ68w5bpBScC",
    "outputId": "05c0a7b0-d868-46ec-e3f3-8ecf85eb1d24",
    "ExecuteTime": {
     "end_time": "2024-05-19T02:54:40.999535Z",
     "start_time": "2024-05-19T02:54:40.992242Z"
    }
   },
   "source": [
    "env.action_space.n"
   ],
   "execution_count": 422,
   "outputs": [
    {
     "data": {
      "text/plain": "4"
     },
     "execution_count": 422,
     "metadata": {},
     "output_type": "execute_result"
    }
   ]
  },
  {
   "cell_type": "code",
   "metadata": {
    "id": "VWLnvY7VBvIZ",
    "ExecuteTime": {
     "end_time": "2024-05-19T02:54:41.009154Z",
     "start_time": "2024-05-19T02:54:41.001492Z"
    }
   },
   "source": [
    "def play(env, policy, render=False):\n",
    "    state, _ = env.reset()\n",
    "    total_reward = 0\n",
    "    steps = 0\n",
    "    done = False\n",
    "    while not done:\n",
    "        action = policy[state]\n",
    "        next_state, reward, done, info, _ = env.step(action)\n",
    "        total_reward += reward\n",
    "        steps += 1\n",
    "        if render:\n",
    "            print(env.render())\n",
    "            time.sleep(0.5)\n",
    "            if not done:\n",
    "                display.clear_output(wait=True)\n",
    "        state = next_state\n",
    "\n",
    "    return (total_reward, steps)"
   ],
   "execution_count": 423,
   "outputs": []
  },
  {
   "cell_type": "code",
   "metadata": {
    "colab": {
     "base_uri": "https://localhost:8080/"
    },
    "id": "fcuDDx6rC5YE",
    "outputId": "9707ead1-097f-4517-b9ce-8cddda663a7f",
    "ExecuteTime": {
     "end_time": "2024-05-19T02:54:41.020828Z",
     "start_time": "2024-05-19T02:54:41.011414Z"
    }
   },
   "source": [
    "policy_0 = np.asarray([0, 0, 0, 0, 0, 0, 0, 0, 0, 0, 0, 0, 0, 0, 0, 0])\n",
    "play(env, policy_0)"
   ],
   "execution_count": 424,
   "outputs": [
    {
     "data": {
      "text/plain": "(0.0, 8)"
     },
     "execution_count": 424,
     "metadata": {},
     "output_type": "execute_result"
    }
   ]
  },
  {
   "cell_type": "code",
   "source": [
    "\n",
    "policy_0 = np.asarray([0, 0, 0, 0, 0, 0, 0, 0, 0, 0, 0, 0, 0, 0, 0, 0])\n",
    "play(env, policy_0, True)\n"
   ],
   "metadata": {
    "colab": {
     "base_uri": "https://localhost:8080/"
    },
    "id": "BJ1CJNPhDGPA",
    "outputId": "abfd77fb-c766-454c-e0d5-a774fee2f2d3"
   },
   "execution_count": 425,
   "outputs": [
    {
     "name": "stdout",
     "output_type": "stream",
     "text": [
      "  (Left)\n",
      "SFFF\n",
      "FHFH\n",
      "FFFH\n",
      "\u001B[41mH\u001B[0mFFG\n"
     ]
    },
    {
     "data": {
      "text/plain": "(0.0, 10)"
     },
     "execution_count": 425,
     "metadata": {},
     "output_type": "execute_result"
    }
   ]
  },
  {
   "cell_type": "code",
   "metadata": {
    "colab": {
     "base_uri": "https://localhost:8080/"
    },
    "id": "tdyjjtGZC9NX",
    "outputId": "a7ae95f8-3060-4c4d-93d9-5fcfd4ce1b55"
   },
   "source": [
    "policy_1 = np.asarray([0, 1, 1, 3, 1, 0, 2, 0, 1, 1, 2, 2, 3, 3, 1, 0])\n",
    "play(env, policy_1, True)"
   ],
   "execution_count": 426,
   "outputs": [
    {
     "name": "stdout",
     "output_type": "stream",
     "text": [
      "  (Down)\n",
      "SFFF\n",
      "FHFH\n",
      "FFFH\n",
      "\u001B[41mH\u001B[0mFFG\n"
     ]
    },
    {
     "data": {
      "text/plain": "(0.0, 5)"
     },
     "execution_count": 426,
     "metadata": {},
     "output_type": "execute_result"
    }
   ]
  },
  {
   "cell_type": "code",
   "metadata": {
    "colab": {
     "base_uri": "https://localhost:8080/"
    },
    "id": "tt0VhyMuDasc",
    "outputId": "9c362b93-1aaf-4a84-eb16-d63f58f6265b"
   },
   "source": [
    "policy_2 = np.array([1, 1, 1, 3, 0, 1, 2, 3, 1, 1, 2, 3, 2, 2, 1, 3])\n",
    "play(env, policy_2, True)"
   ],
   "execution_count": 427,
   "outputs": [
    {
     "name": "stdout",
     "output_type": "stream",
     "text": [
      "  (Down)\n",
      "SFFF\n",
      "FHFH\n",
      "FFFH\n",
      "HFF\u001B[41mG\u001B[0m\n"
     ]
    },
    {
     "data": {
      "text/plain": "(1.0, 17)"
     },
     "execution_count": 427,
     "metadata": {},
     "output_type": "execute_result"
    }
   ]
  },
  {
   "cell_type": "code",
   "metadata": {
    "colab": {
     "base_uri": "https://localhost:8080/"
    },
    "id": "Hp6qhRFJDxWR",
    "outputId": "66da48db-c2b7-448f-b33c-5055f5f3bd30"
   },
   "source": [
    "policy_3 = np.array([0, 3, 0, 3, 0, 0, 0, 0, 3, 1, 0, 0, 0, 2, 1, 0])\n",
    "play(env, policy_3, True)"
   ],
   "execution_count": 428,
   "outputs": [
    {
     "name": "stdout",
     "output_type": "stream",
     "text": [
      "  (Down)\n",
      "SFFF\n",
      "FHFH\n",
      "FFFH\n",
      "HFF\u001B[41mG\u001B[0m\n"
     ]
    },
    {
     "data": {
      "text/plain": "(1.0, 37)"
     },
     "execution_count": 428,
     "metadata": {},
     "output_type": "execute_result"
    }
   ]
  },
  {
   "cell_type": "code",
   "metadata": {
    "id": "JU8Q1qMxD6Po",
    "ExecuteTime": {
     "end_time": "2024-05-19T02:55:15.721142Z",
     "start_time": "2024-05-19T02:55:15.717065Z"
    }
   },
   "source": [
    "def play_multiple_times(env, policy, max_episodes):\n",
    "    success = 0\n",
    "    list_of_steps = []\n",
    "    for i in range(max_episodes):\n",
    "        total_reward, steps = play(env, policy)\n",
    "\n",
    "        if total_reward > 0:\n",
    "            success += 1\n",
    "            list_of_steps.append(steps)\n",
    "\n",
    "    print(f'Number of successes: {success}/{max_episodes}')\n",
    "    print(f'Average number of steps: {np.mean(list_of_steps)}')"
   ],
   "execution_count": 429,
   "outputs": []
  },
  {
   "cell_type": "code",
   "metadata": {
    "colab": {
     "base_uri": "https://localhost:8080/"
    },
    "id": "G427z17PEmjQ",
    "outputId": "f20e5e7b-19f8-4a98-b0a2-8e85220594a0",
    "ExecuteTime": {
     "end_time": "2024-05-19T02:55:15.891587Z",
     "start_time": "2024-05-19T02:55:15.722619Z"
    }
   },
   "source": [
    "policy_0 = np.asarray([0, 0, 0, 0, 0, 0, 0, 0, 0, 0, 0, 0, 0, 0, 0, 0])\n",
    "play_multiple_times(env, policy_0, 1000)"
   ],
   "execution_count": 430,
   "outputs": [
    {
     "name": "stdout",
     "output_type": "stream",
     "text": [
      "Number of successes: 0/1000\n",
      "Average number of steps: nan\n"
     ]
    },
    {
     "name": "stderr",
     "output_type": "stream",
     "text": [
      "C:\\Users\\nguye\\anaconda3\\Lib\\site-packages\\numpy\\core\\fromnumeric.py:3464: RuntimeWarning: Mean of empty slice.\n",
      "  return _methods._mean(a, axis=axis, dtype=dtype,\n",
      "C:\\Users\\nguye\\anaconda3\\Lib\\site-packages\\numpy\\core\\_methods.py:192: RuntimeWarning: invalid value encountered in scalar divide\n",
      "  ret = ret.dtype.type(ret / rcount)\n"
     ]
    }
   ]
  },
  {
   "cell_type": "code",
   "metadata": {
    "colab": {
     "base_uri": "https://localhost:8080/"
    },
    "id": "H1bkhaFdDmj_",
    "outputId": "02e8420d-466e-4035-9e8f-f61bdf391779",
    "ExecuteTime": {
     "end_time": "2024-05-19T02:55:15.969857Z",
     "start_time": "2024-05-19T02:55:15.892747Z"
    }
   },
   "source": [
    "policy_1 = np.asarray([0, 1, 1, 3, 1, 0, 2, 0, 1, 1, 2, 2, 3, 3, 1, 0])\n",
    "play_multiple_times(env, policy_1, 1000)"
   ],
   "execution_count": 431,
   "outputs": [
    {
     "name": "stdout",
     "output_type": "stream",
     "text": [
      "Number of successes: 63/1000\n",
      "Average number of steps: 11.444444444444445\n"
     ]
    }
   ]
  },
  {
   "cell_type": "code",
   "metadata": {
    "colab": {
     "base_uri": "https://localhost:8080/"
    },
    "id": "2ZYhsb_VEtuR",
    "outputId": "933da714-6efe-453c-f9a5-570feaba301a",
    "ExecuteTime": {
     "end_time": "2024-05-19T02:55:16.081864Z",
     "start_time": "2024-05-19T02:55:15.970928Z"
    }
   },
   "source": [
    "policy_2 = np.array([1, 1, 1, 3, 0, 1, 2, 3, 1, 1, 2, 3, 2, 2, 1, 3])\n",
    "play_multiple_times(env, policy_2, 1000)"
   ],
   "execution_count": 432,
   "outputs": [
    {
     "name": "stdout",
     "output_type": "stream",
     "text": [
      "Number of successes: 115/1000\n",
      "Average number of steps: 16.382608695652173\n"
     ]
    }
   ]
  },
  {
   "cell_type": "code",
   "metadata": {
    "colab": {
     "base_uri": "https://localhost:8080/"
    },
    "id": "OvvHdMesEzTH",
    "outputId": "3c21ebe0-7c87-4b0b-ed65-350bf2cd5e1c",
    "ExecuteTime": {
     "end_time": "2024-05-19T02:55:16.567623Z",
     "start_time": "2024-05-19T02:55:16.088658Z"
    }
   },
   "source": [
    "policy_3 = np.array([0, 3, 0, 3, 0, 0, 0, 0, 3, 1, 0, 0, 0, 2, 1, 0])\n",
    "play_multiple_times(env, policy_3, 1000)"
   ],
   "execution_count": 433,
   "outputs": [
    {
     "name": "stdout",
     "output_type": "stream",
     "text": [
      "Number of successes: 774/1000\n",
      "Average number of steps: 42.53359173126615\n"
     ]
    }
   ]
  },
  {
   "cell_type": "code",
   "metadata": {
    "id": "bSomNpxJE5lP",
    "ExecuteTime": {
     "end_time": "2024-05-19T02:55:16.575179Z",
     "start_time": "2024-05-19T02:55:16.568836Z"
    }
   },
   "source": [
    "def policy_evaluation(env, policy, max_iters=500, gamma=0.9):\n",
    "    # Initialize the values of all states to be 0\n",
    "    v_values = np.zeros(env.observation_space.n)\n",
    "\n",
    "    for i in range(max_iters):\n",
    "        prev_v_values = np.copy(v_values)\n",
    "\n",
    "        # Update the value of each state\n",
    "        for state in range(env.observation_space.n):\n",
    "            action = policy[state]\n",
    "\n",
    "            # Compute the q-value of the action\n",
    "            q_value = 0\n",
    "            for prob, next_state, reward, done in env.P[state][action]:\n",
    "                q_value += prob * (reward + gamma * prev_v_values[next_state])\n",
    "\n",
    "            v_values[state] = q_value # update v-value\n",
    "\n",
    "        # Check convergence\n",
    "        if np.all(np.isclose(v_values, prev_v_values)):\n",
    "            print(f'Converged at {i}-th iteration.')\n",
    "            break\n",
    "\n",
    "    return v_values"
   ],
   "execution_count": 434,
   "outputs": []
  },
  {
   "cell_type": "code",
   "metadata": {
    "colab": {
     "base_uri": "https://localhost:8080/"
    },
    "id": "A7IhqEOgGkQX",
    "outputId": "d8f855b6-cfff-45d4-a433-3a76e84e3e55",
    "ExecuteTime": {
     "end_time": "2024-05-19T02:55:16.583613Z",
     "start_time": "2024-05-19T02:55:16.576187Z"
    }
   },
   "source": [
    "policy_0 = np.asarray([0, 0, 0, 0, 0, 0, 0, 0, 0, 0, 0, 0, 0, 0, 0, 0])\n",
    "v_values_0 = policy_evaluation(env, policy_0)\n",
    "print(v_values_0)"
   ],
   "execution_count": 435,
   "outputs": [
    {
     "name": "stdout",
     "output_type": "stream",
     "text": [
      "Converged at 0-th iteration.\n",
      "[0. 0. 0. 0. 0. 0. 0. 0. 0. 0. 0. 0. 0. 0. 0. 0.]\n"
     ]
    }
   ]
  },
  {
   "cell_type": "code",
   "metadata": {
    "colab": {
     "base_uri": "https://localhost:8080/"
    },
    "id": "zMjJKI3GGrsN",
    "outputId": "a934f69c-a70b-4e06-f1dc-25eafbeb0c47",
    "ExecuteTime": {
     "end_time": "2024-05-19T02:55:16.599860Z",
     "start_time": "2024-05-19T02:55:16.584698Z"
    }
   },
   "source": [
    "policy_1 = np.asarray([0, 1, 1, 3, 1, 0, 2, 0, 1, 1, 2, 2, 3, 3, 1, 0])\n",
    "v_values_1 = policy_evaluation(env, policy_1)\n",
    "print(v_values_1)"
   ],
   "execution_count": 436,
   "outputs": [
    {
     "name": "stdout",
     "output_type": "stream",
     "text": [
      "Converged at 48-th iteration.\n",
      "[0.01904157 0.01519815 0.03161906 0.02371389 0.02538879 0.\n",
      " 0.06648515 0.         0.05924054 0.13822794 0.18999823 0.\n",
      " 0.         0.21152109 0.56684236 0.        ]\n"
     ]
    }
   ]
  },
  {
   "cell_type": "code",
   "metadata": {
    "colab": {
     "base_uri": "https://localhost:8080/"
    },
    "id": "H-26M77nEfcV",
    "outputId": "a49842f4-7901-4576-c52d-5fb414de4f1e",
    "ExecuteTime": {
     "end_time": "2024-05-19T02:55:16.607411Z",
     "start_time": "2024-05-19T02:55:16.600963Z"
    }
   },
   "source": [
    "np.all(v_values_1 >= v_values_0)"
   ],
   "execution_count": 437,
   "outputs": [
    {
     "data": {
      "text/plain": "True"
     },
     "execution_count": 437,
     "metadata": {},
     "output_type": "execute_result"
    }
   ]
  },
  {
   "cell_type": "code",
   "metadata": {
    "colab": {
     "base_uri": "https://localhost:8080/"
    },
    "id": "l49O1N8QG0S2",
    "outputId": "f6e8d433-9d58-4a46-d5e9-ad7746a33acb",
    "ExecuteTime": {
     "end_time": "2024-05-19T02:55:16.625657Z",
     "start_time": "2024-05-19T02:55:16.608453Z"
    }
   },
   "source": [
    "policy_2 = np.array([1, 1, 1, 3, 0, 1, 2, 3, 1, 1, 2, 3, 2, 2, 1, 3])\n",
    "v_values_2 = policy_evaluation(env, policy_2)\n",
    "print(v_values_2)"
   ],
   "execution_count": 438,
   "outputs": [
    {
     "name": "stdout",
     "output_type": "stream",
     "text": [
      "Converged at 53-th iteration.\n",
      "[0.02889625 0.01951972 0.03616977 0.0271268  0.04790519 0.\n",
      " 0.07391985 0.         0.08288277 0.19339319 0.21022995 0.\n",
      " 0.         0.35153135 0.62684674 0.        ]\n"
     ]
    }
   ]
  },
  {
   "cell_type": "code",
   "metadata": {
    "colab": {
     "base_uri": "https://localhost:8080/"
    },
    "id": "22pRvreGE3Yt",
    "outputId": "07915473-ca14-4a0c-e7c7-027c6adf0498",
    "ExecuteTime": {
     "end_time": "2024-05-19T02:55:16.632895Z",
     "start_time": "2024-05-19T02:55:16.626825Z"
    }
   },
   "source": [
    "np.all(v_values_2 >= v_values_1)"
   ],
   "execution_count": 439,
   "outputs": [
    {
     "data": {
      "text/plain": "True"
     },
     "execution_count": 439,
     "metadata": {},
     "output_type": "execute_result"
    }
   ]
  },
  {
   "cell_type": "code",
   "metadata": {
    "colab": {
     "base_uri": "https://localhost:8080/"
    },
    "id": "BTYYFq6BEXDd",
    "outputId": "12fd0fd0-24d6-48dd-a456-ed9323f50d3e",
    "ExecuteTime": {
     "end_time": "2024-05-19T02:55:16.654935Z",
     "start_time": "2024-05-19T02:55:16.633954Z"
    }
   },
   "source": [
    "policy_3 = np.array([0, 3, 0, 3, 0, 0, 0, 0, 3, 1, 0, 0, 0, 2, 1, 0])\n",
    "v_values_3 = policy_evaluation(env, policy_3)\n",
    "print(v_values_3)"
   ],
   "execution_count": 440,
   "outputs": [
    {
     "name": "stdout",
     "output_type": "stream",
     "text": [
      "Converged at 80-th iteration.\n",
      "[0.06888666 0.06141097 0.07440714 0.05580443 0.09185068 0.\n",
      " 0.11220679 0.         0.14543323 0.24749485 0.29961611 0.\n",
      " 0.         0.37993438 0.63901935 0.        ]\n"
     ]
    }
   ]
  },
  {
   "cell_type": "code",
   "metadata": {
    "colab": {
     "base_uri": "https://localhost:8080/"
    },
    "id": "zcEfU3NYE7xN",
    "outputId": "78187f65-f5d4-4827-fbd3-3ca0feb9ccdd",
    "ExecuteTime": {
     "end_time": "2024-05-19T02:55:16.662068Z",
     "start_time": "2024-05-19T02:55:16.656093Z"
    }
   },
   "source": [
    "np.all(v_values_3 >= v_values_2)"
   ],
   "execution_count": 441,
   "outputs": [
    {
     "data": {
      "text/plain": "True"
     },
     "execution_count": 441,
     "metadata": {},
     "output_type": "execute_result"
    }
   ]
  },
  {
   "cell_type": "code",
   "metadata": {
    "id": "uh4akjMSHJBF",
    "ExecuteTime": {
     "end_time": "2024-05-19T02:55:16.668735Z",
     "start_time": "2024-05-19T02:55:16.663128Z"
    }
   },
   "source": [
    "def value_iteration(env, max_iters=500, gamma=0.9):\n",
    "    # initialize\n",
    "    v_values = np.zeros(env.observation_space.n)\n",
    "\n",
    "    for i in range(max_iters):\n",
    "        prev_v_values = np.copy(v_values)\n",
    "\n",
    "        # update the v-value for each state\n",
    "        for state in range(env.observation_space.n):\n",
    "            q_values = []\n",
    "\n",
    "            # compute the q-value for each action that we can perform at the state\n",
    "            for action in range(env.action_space.n):\n",
    "                q_value = 0\n",
    "                # loop through each possible outcome\n",
    "                for prob, next_state, reward, done in env.P[state][action]:\n",
    "                    q_value += prob * (reward + gamma * prev_v_values[next_state])\n",
    "\n",
    "                q_values.append(q_value)\n",
    "\n",
    "            # select the max q-values\n",
    "            best_action = np.argmax(q_values)\n",
    "            v_values[state] = q_values[best_action]\n",
    "\n",
    "        # check convergence\n",
    "        if np.all(np.isclose(v_values, prev_v_values)):\n",
    "            print(f'Converged at {i}-th iteration.')\n",
    "            break\n",
    "\n",
    "    return v_values"
   ],
   "execution_count": 442,
   "outputs": []
  },
  {
   "cell_type": "code",
   "metadata": {
    "colab": {
     "base_uri": "https://localhost:8080/"
    },
    "id": "r8xAljw7VuMP",
    "outputId": "e3dd8ca1-e4ab-48ae-c5ef-05e0875f18f7",
    "ExecuteTime": {
     "end_time": "2024-05-19T02:55:16.734525Z",
     "start_time": "2024-05-19T02:55:16.669864Z"
    }
   },
   "source": [
    "optimal_v_values = value_iteration(env, max_iters=500, gamma=0.9)"
   ],
   "execution_count": 443,
   "outputs": [
    {
     "name": "stdout",
     "output_type": "stream",
     "text": [
      "Converged at 79-th iteration.\n"
     ]
    }
   ]
  },
  {
   "cell_type": "code",
   "metadata": {
    "colab": {
     "base_uri": "https://localhost:8080/"
    },
    "id": "i7g9VA3lV2WW",
    "outputId": "77522ac0-3a35-422e-9650-dedd92b5e763",
    "ExecuteTime": {
     "end_time": "2024-05-19T02:55:16.742322Z",
     "start_time": "2024-05-19T02:55:16.737616Z"
    }
   },
   "source": [
    "optimal_v_values"
   ],
   "execution_count": 444,
   "outputs": [
    {
     "data": {
      "text/plain": "array([0.06888615, 0.06141054, 0.07440682, 0.05580409, 0.09185022,\n       0.        , 0.11220663, 0.        , 0.14543286, 0.2474946 ,\n       0.29961593, 0.        , 0.        , 0.3799342 , 0.63901926,\n       0.        ])"
     },
     "execution_count": 444,
     "metadata": {},
     "output_type": "execute_result"
    }
   ]
  },
  {
   "cell_type": "code",
   "metadata": {
    "id": "jb0an7gaV39e",
    "ExecuteTime": {
     "end_time": "2024-05-19T02:55:16.748398Z",
     "start_time": "2024-05-19T02:55:16.743330Z"
    }
   },
   "source": [
    "def policy_extraction(env, v_values, gamma=0.9):\n",
    "    # initialize\n",
    "    policy = np.zeros(env.observation_space.n, dtype=np.int32)\n",
    "\n",
    "    # loop through each state in the environment\n",
    "    for state in range(env.observation_space.n):\n",
    "        q_values = []\n",
    "        # loop through each action\n",
    "        for action in range(env.action_space.n):\n",
    "            q_value = 0\n",
    "            # loop each possible outcome\n",
    "            for prob, next_state, reward, done in env.P[state][action]:\n",
    "                q_value += prob * (reward + gamma * v_values[next_state])\n",
    "\n",
    "            q_values.append(q_value)\n",
    "\n",
    "        # select the best action\n",
    "        best_action = np.argmax(q_values)\n",
    "        policy[state] = best_action\n",
    "\n",
    "    return policy"
   ],
   "execution_count": 445,
   "outputs": []
  },
  {
   "cell_type": "code",
   "metadata": {
    "id": "7TGCF4G7XErH",
    "ExecuteTime": {
     "end_time": "2024-05-19T02:55:16.755289Z",
     "start_time": "2024-05-19T02:55:16.749404Z"
    }
   },
   "source": [
    "optimal_policy = policy_extraction(env, optimal_v_values, gamma=0.9)"
   ],
   "execution_count": 446,
   "outputs": []
  },
  {
   "cell_type": "code",
   "source": [
    "optimal_policy"
   ],
   "metadata": {
    "colab": {
     "base_uri": "https://localhost:8080/"
    },
    "id": "qkHYtfm4qikV",
    "outputId": "5ca7c235-818f-4347-9995-89da1f23fb7b",
    "ExecuteTime": {
     "end_time": "2024-05-19T02:55:16.762214Z",
     "start_time": "2024-05-19T02:55:16.756408Z"
    }
   },
   "execution_count": 447,
   "outputs": [
    {
     "data": {
      "text/plain": "array([0, 3, 0, 3, 0, 0, 0, 0, 3, 1, 0, 0, 0, 2, 1, 0])"
     },
     "execution_count": 447,
     "metadata": {},
     "output_type": "execute_result"
    }
   ]
  },
  {
   "cell_type": "code",
   "source": [
    "play(env, optimal_policy, True)"
   ],
   "metadata": {
    "colab": {
     "base_uri": "https://localhost:8080/"
    },
    "id": "1Ww12Uh5qCUb",
    "outputId": "57ac0553-f6d8-43ca-a14f-1c238990a33b"
   },
   "execution_count": 448,
   "outputs": [
    {
     "name": "stdout",
     "output_type": "stream",
     "text": [
      "  (Down)\n",
      "SFFF\n",
      "FHFH\n",
      "FFFH\n",
      "HFF\u001B[41mG\u001B[0m\n"
     ]
    },
    {
     "data": {
      "text/plain": "(1.0, 21)"
     },
     "execution_count": 448,
     "metadata": {},
     "output_type": "execute_result"
    }
   ]
  },
  {
   "cell_type": "code",
   "metadata": {
    "colab": {
     "base_uri": "https://localhost:8080/"
    },
    "id": "5-m4ZqWZXKqG",
    "outputId": "f5e40d21-d8c8-4432-98db-1dde9c039944",
    "ExecuteTime": {
     "end_time": "2024-05-19T02:55:27.683328Z",
     "start_time": "2024-05-19T02:55:27.308831Z"
    }
   },
   "source": [
    "play_multiple_times(env, optimal_policy, 1000)"
   ],
   "execution_count": 449,
   "outputs": [
    {
     "name": "stdout",
     "output_type": "stream",
     "text": [
      "Number of successes: 773/1000\n",
      "Average number of steps: 43.28978007761966\n"
     ]
    }
   ]
  },
  {
   "cell_type": "code",
   "source": [
    "# Hàm policy_iteration có các tham số là môi trường (env), số lần chạy tối đa (max_iters)\n",
    "def policy_iteration(env, max_iters = 1000):\n",
    "\n",
    "  # Khởi tạo policy bằng 0\n",
    "  policy = np.zeros(env.observation_space.n)\n",
    "\n",
    "  # Bắt đầu vòng lặp chạy tối đa max_iters lần\n",
    "  for i in range(max_iters):\n",
    "\n",
    "    # Gọi hàm policy_evaluation đánh giá policy hiện tại để có giá trị value_function\n",
    "    value_function = policy_evaluation(env,policy)\n",
    "\n",
    "    # Gọi hàm policy_extraction để tạo policy mới với value_function hiện tại\n",
    "    new_policy = policy_extraction(env,value_function)\n",
    "\n",
    "    # Nếu policy mới bằng policy hiện tại (hội tụ) thì dừng vòng lặp\n",
    "    if (np.all(policy == new_policy)):\n",
    "      break\n",
    "\n",
    "    # Nếu chưa hội tụ thì gán policy mới cho policy hiện tại và bắt đầu vòng lặp mới\n",
    "    policy = new_policy\n",
    "\n",
    "  # Trả về policy cuối cùng\n",
    "  return policy"
   ],
   "metadata": {
    "id": "YOQ7Hs4DqX2T",
    "ExecuteTime": {
     "end_time": "2024-05-19T02:55:27.688904Z",
     "start_time": "2024-05-19T02:55:27.684369Z"
    }
   },
   "execution_count": 450,
   "outputs": []
  },
  {
   "cell_type": "code",
   "outputs": [
    {
     "name": "stdout",
     "output_type": "stream",
     "text": [
      "Converged at 0-th iteration.\n",
      "Converged at 23-th iteration.\n",
      "Converged at 59-th iteration.\n",
      "Converged at 62-th iteration.\n",
      "Converged at 79-th iteration.\n",
      "Converged at 80-th iteration.\n"
     ]
    }
   ],
   "source": [
    "new_optimal_policy = policy_iteration(env)"
   ],
   "metadata": {
    "collapsed": false,
    "ExecuteTime": {
     "end_time": "2024-05-19T02:55:27.756225Z",
     "start_time": "2024-05-19T02:55:27.689911Z"
    }
   },
   "execution_count": 451
  },
  {
   "cell_type": "code",
   "outputs": [
    {
     "data": {
      "text/plain": "array([0, 3, 0, 3, 0, 0, 0, 0, 3, 1, 0, 0, 0, 2, 1, 0])"
     },
     "execution_count": 452,
     "metadata": {},
     "output_type": "execute_result"
    }
   ],
   "source": [
    "new_optimal_policy"
   ],
   "metadata": {
    "collapsed": false,
    "ExecuteTime": {
     "end_time": "2024-05-19T02:55:27.761137Z",
     "start_time": "2024-05-19T02:55:27.757244Z"
    }
   },
   "execution_count": 452
  },
  {
   "cell_type": "code",
   "outputs": [
    {
     "name": "stdout",
     "output_type": "stream",
     "text": [
      "  (Left)\n",
      "SFFF\n",
      "F\u001B[41mH\u001B[0mFH\n",
      "FFFH\n",
      "HFFG\n"
     ]
    },
    {
     "data": {
      "text/plain": "(0.0, 14)"
     },
     "execution_count": 453,
     "metadata": {},
     "output_type": "execute_result"
    }
   ],
   "source": [
    "play(env, optimal_policy, True)"
   ],
   "metadata": {
    "collapsed": false
   },
   "execution_count": 453
  },
  {
   "cell_type": "code",
   "outputs": [
    {
     "name": "stdout",
     "output_type": "stream",
     "text": [
      "Number of successes: 797/1000\n",
      "Average number of steps: 43.64993726474278\n"
     ]
    }
   ],
   "source": [
    "play_multiple_times(env, new_optimal_policy, 1000)\n",
    "# Number of successes: 797/1000\n",
    "# Average number of steps: 43.64993726474278\n",
    "\n",
    "# Kết quả cho ra tốt hơn so với value iteration"
   ],
   "metadata": {
    "collapsed": false,
    "ExecuteTime": {
     "end_time": "2024-05-19T02:55:35.170921Z",
     "start_time": "2024-05-19T02:55:34.802161Z"
    }
   },
   "execution_count": 454
  },
  {
   "cell_type": "code",
   "outputs": [],
   "source": [],
   "metadata": {
    "collapsed": false,
    "ExecuteTime": {
     "end_time": "2024-05-19T02:55:35.174261Z",
     "start_time": "2024-05-19T02:55:35.171967Z"
    }
   },
   "execution_count": 454
  }
 ]
}
